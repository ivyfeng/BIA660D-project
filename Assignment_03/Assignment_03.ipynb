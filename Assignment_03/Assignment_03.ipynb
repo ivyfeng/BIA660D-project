{
 "cells": [
  {
   "cell_type": "code",
   "execution_count": 1,
   "metadata": {},
   "outputs": [],
   "source": [
    "from selenium import webdriver\n",
    "from selenium.webdriver.support.select import Select\n",
    "from selenium.webdriver.common.keys import Keys\n",
    "#select works to select from an item\n",
    "from selenium.webdriver import ActionChains\n",
    "from selenium.webdriver.common.by import By\n",
    "from selenium.webdriver.support import expected_conditions as EC\n",
    "from selenium.webdriver.support.wait import WebDriverWait\n",
    "import selenium.webdriver.support.ui as ui\n",
    "from selenium.webdriver.common.keys import Keys\n",
    "from bs4 import BeautifulSoup as BS\n",
    "import numpy as np\n",
    "import pandas as pd\n",
    "from selenium.common.exceptions import NoSuchElementException"
   ]
  },
  {
   "cell_type": "code",
   "execution_count": 5,
   "metadata": {},
   "outputs": [],
   "source": [
    "#To simulate the delay\n",
    "import random\n",
    "import time\n",
    "start_time = time.time()\n",
    "normal_delay = random.normalvariate(2, 0.5)\n",
    "time.sleep(normal_delay)    \n",
    "# print(\"--- %.5f seconds ---\" % (time.time() - start_time))\n",
    "\n",
    "def delay(t):\n",
    "    normal_delay = random.normalvariate(t, 0.5)\n",
    "    time.sleep(normal_delay)"
   ]
  },
  {
   "cell_type": "code",
   "execution_count": 3,
   "metadata": {},
   "outputs": [],
   "source": [
    "driver = webdriver.Chrome('D:\\ChromeDriver\\chromedriver.exe')"
   ]
  },
  {
   "cell_type": "code",
   "execution_count": 4,
   "metadata": {},
   "outputs": [],
   "source": [
    "driver.get('https://www.amazon.com/RockBirds-Tactical-Flashlights-Fluorescent-Ring/dp/B00X61AJYM/ref=cm_cr_arp_d_product_top?ie=UTF8&th=1')"
   ]
  },
  {
   "cell_type": "code",
   "execution_count": 6,
   "metadata": {},
   "outputs": [],
   "source": [
    "# spot [see all customer reviews]\n",
    "all_cust_reviews_div = driver.find_element_by_id('reviewSummary')\n",
    "all_cust_reviews_link = driver.find_element_by_id('dp-summary-see-all-reviews')\n",
    "all_cust_reviews_link.click()"
   ]
  },
  {
   "cell_type": "code",
   "execution_count": 7,
   "metadata": {},
   "outputs": [],
   "source": [
    "# current page to HTML\n",
    "all_cust_reviews_page = driver.page_source\n",
    "all_cust_reviews_soup = BS(all_cust_reviews_page, 'html5lib')"
   ]
  },
  {
   "cell_type": "code",
   "execution_count": 8,
   "metadata": {},
   "outputs": [],
   "source": [
    "#get div containing all reviews body\n",
    "reviews_soup_div = all_cust_reviews_soup.find('div', attrs={'id':'cm_cr-review_list'})\n",
    "reviews_soup_div_data = reviews_soup_div.find_all('div', attrs={'class': 'a-section review'})\n",
    "num_of_reviews = len(reviews_soup_div_data)\n",
    "# for loop through reviews_soup_div_data\n",
    "score_list = []\n",
    "title_list = []\n",
    "review_list = []\n",
    "date_list =[]\n",
    "for i in range(0, num_of_reviews):\n",
    "    review = reviews_soup_div_data[i].find('div', attrs={'class': 'a-section celwidget'})\n",
    "    # retrieve title score and append it to score_list\n",
    "    score = review.find('a', attrs={'class': 'a-link-normal'})['title']\n",
    "    score_list.append(score)\n",
    "    # retrieve title and append it to title_list\n",
    "    title = review.find('a', attrs={'data-hook': 'review-title'}).get_text()\n",
    "    title_list.append(title)\n",
    "    # get review data and store in review_list\n",
    "    review_body = review.find('span', attrs={'data-hook': 'review-body'}).get_text()\n",
    "    review_list.append(review_body)\n",
    "    # retrieve date\n",
    "    date = review.find('span', attrs={'data-hook': 'review-date'}).get_text().encode(\"utf-8\")\n",
    "    date_list.append(date)"
   ]
  },
  {
   "cell_type": "code",
   "execution_count": 11,
   "metadata": {},
   "outputs": [
    {
     "data": {
      "text/html": [
       "<div>\n",
       "<style scoped>\n",
       "    .dataframe tbody tr th:only-of-type {\n",
       "        vertical-align: middle;\n",
       "    }\n",
       "\n",
       "    .dataframe tbody tr th {\n",
       "        vertical-align: top;\n",
       "    }\n",
       "\n",
       "    .dataframe thead th {\n",
       "        text-align: right;\n",
       "    }\n",
       "</style>\n",
       "<table border=\"1\" class=\"dataframe\">\n",
       "  <thead>\n",
       "    <tr style=\"text-align: right;\">\n",
       "      <th></th>\n",
       "      <th>Date</th>\n",
       "      <th>Review_Content</th>\n",
       "      <th>Score</th>\n",
       "      <th>Title</th>\n",
       "    </tr>\n",
       "  </thead>\n",
       "  <tbody>\n",
       "    <tr>\n",
       "      <th>0</th>\n",
       "      <td>b'on March 4, 2017'</td>\n",
       "      <td>1:580:00This video is not intended for all aud...</td>\n",
       "      <td>5.0 out of 5 stars</td>\n",
       "      <td>Quality made and a fantastic deal!  Let me sho...</td>\n",
       "    </tr>\n",
       "    <tr>\n",
       "      <th>1</th>\n",
       "      <td>b'on February 10, 2018'</td>\n",
       "      <td>Given my many prior, poor experiences with sev...</td>\n",
       "      <td>4.0 out of 5 stars</td>\n",
       "      <td>Miniature in size &amp; price, but big on light ou...</td>\n",
       "    </tr>\n",
       "    <tr>\n",
       "      <th>2</th>\n",
       "      <td>b'on March 7, 2017'</td>\n",
       "      <td>0:110:00This video is not intended for all aud...</td>\n",
       "      <td>5.0 out of 5 stars</td>\n",
       "      <td>Heavy Duty and Bright</td>\n",
       "    </tr>\n",
       "    <tr>\n",
       "      <th>3</th>\n",
       "      <td>b'on September 13, 2017'</td>\n",
       "      <td>These ended up being very handy, but I didn't ...</td>\n",
       "      <td>4.0 out of 5 stars</td>\n",
       "      <td>Small, but mighty</td>\n",
       "    </tr>\n",
       "    <tr>\n",
       "      <th>4</th>\n",
       "      <td>b'on August 25, 2017'</td>\n",
       "      <td>Handy little flashlights and I thought the cli...</td>\n",
       "      <td>4.0 out of 5 stars</td>\n",
       "      <td>One Bright, One Dim!</td>\n",
       "    </tr>\n",
       "  </tbody>\n",
       "</table>\n",
       "</div>"
      ],
      "text/plain": [
       "                       Date  \\\n",
       "0       b'on March 4, 2017'   \n",
       "1   b'on February 10, 2018'   \n",
       "2       b'on March 7, 2017'   \n",
       "3  b'on September 13, 2017'   \n",
       "4     b'on August 25, 2017'   \n",
       "\n",
       "                                      Review_Content               Score  \\\n",
       "0  1:580:00This video is not intended for all aud...  5.0 out of 5 stars   \n",
       "1  Given my many prior, poor experiences with sev...  4.0 out of 5 stars   \n",
       "2  0:110:00This video is not intended for all aud...  5.0 out of 5 stars   \n",
       "3  These ended up being very handy, but I didn't ...  4.0 out of 5 stars   \n",
       "4  Handy little flashlights and I thought the cli...  4.0 out of 5 stars   \n",
       "\n",
       "                                               Title  \n",
       "0  Quality made and a fantastic deal!  Let me sho...  \n",
       "1  Miniature in size & price, but big on light ou...  \n",
       "2                              Heavy Duty and Bright  \n",
       "3                                  Small, but mighty  \n",
       "4                               One Bright, One Dim!  "
      ]
     },
     "execution_count": 11,
     "metadata": {},
     "output_type": "execute_result"
    }
   ],
   "source": [
    "reviews = pd.DataFrame({'Title':title_list,'Review_Content':review_list,'Score':score_list,'Date':date_list})\n",
    "reviews[:5]"
   ]
  },
  {
   "cell_type": "code",
   "execution_count": 33,
   "metadata": {},
   "outputs": [],
   "source": [
    "#import json\n",
    "#reviews.to_json=('D:/df_reviews.json')"
   ]
  },
  {
   "cell_type": "code",
   "execution_count": 10,
   "metadata": {},
   "outputs": [
    {
     "data": {
      "text/html": [
       "<div>\n",
       "<style scoped>\n",
       "    .dataframe tbody tr th:only-of-type {\n",
       "        vertical-align: middle;\n",
       "    }\n",
       "\n",
       "    .dataframe tbody tr th {\n",
       "        vertical-align: top;\n",
       "    }\n",
       "\n",
       "    .dataframe thead th {\n",
       "        text-align: right;\n",
       "    }\n",
       "</style>\n",
       "<table border=\"1\" class=\"dataframe\">\n",
       "  <thead>\n",
       "    <tr style=\"text-align: right;\">\n",
       "      <th></th>\n",
       "      <th>Title</th>\n",
       "      <th>Score</th>\n",
       "      <th>Date</th>\n",
       "      <th>Review_Content</th>\n",
       "    </tr>\n",
       "  </thead>\n",
       "  <tbody>\n",
       "    <tr>\n",
       "      <th>0</th>\n",
       "      <td>It isn't very bright but it's small and will e...</td>\n",
       "      <td>5.0 out of 5 stars</td>\n",
       "      <td>on April 17, 2018</td>\n",
       "      <td>It isn't very bright but it's small and will e...</td>\n",
       "    </tr>\n",
       "    <tr>\n",
       "      <th>1</th>\n",
       "      <td>Bright, but eats batteries</td>\n",
       "      <td>5.0 out of 5 stars</td>\n",
       "      <td>on April 16, 2018</td>\n",
       "      <td>Very bright, I work in a run down steel mill a...</td>\n",
       "    </tr>\n",
       "    <tr>\n",
       "      <th>2</th>\n",
       "      <td>They work pretty good. Didn't blow me away</td>\n",
       "      <td>4.0 out of 5 stars</td>\n",
       "      <td>on April 16, 2018</td>\n",
       "      <td>They work pretty good. Didn't blow me away, an...</td>\n",
       "    </tr>\n",
       "    <tr>\n",
       "      <th>3</th>\n",
       "      <td>Four Stars</td>\n",
       "      <td>4.0 out of 5 stars</td>\n",
       "      <td>on April 16, 2018</td>\n",
       "      <td>I will only say for now so far so good, will s...</td>\n",
       "    </tr>\n",
       "    <tr>\n",
       "      <th>4</th>\n",
       "      <td>Five Stars</td>\n",
       "      <td>5.0 out of 5 stars</td>\n",
       "      <td>on April 16, 2018</td>\n",
       "      <td>Great little flashlight, very bright, will buy...</td>\n",
       "    </tr>\n",
       "  </tbody>\n",
       "</table>\n",
       "</div>"
      ],
      "text/plain": [
       "                                               Title               Score  \\\n",
       "0  It isn't very bright but it's small and will e...  5.0 out of 5 stars   \n",
       "1                         Bright, but eats batteries  5.0 out of 5 stars   \n",
       "2         They work pretty good. Didn't blow me away  4.0 out of 5 stars   \n",
       "3                                         Four Stars  4.0 out of 5 stars   \n",
       "4                                         Five Stars  5.0 out of 5 stars   \n",
       "\n",
       "                Date                                     Review_Content  \n",
       "0  on April 17, 2018  It isn't very bright but it's small and will e...  \n",
       "1  on April 16, 2018  Very bright, I work in a run down steel mill a...  \n",
       "2  on April 16, 2018  They work pretty good. Didn't blow me away, an...  \n",
       "3  on April 16, 2018  I will only say for now so far so good, will s...  \n",
       "4  on April 16, 2018  Great little flashlight, very bright, will buy...  "
      ]
     },
     "execution_count": 10,
     "metadata": {},
     "output_type": "execute_result"
    }
   ],
   "source": [
    "#df_reviews= pd.read_json('D:/reviews.json',header=0)\n",
    "df_reviews[:5]"
   ]
  },
  {
   "cell_type": "code",
   "execution_count": 12,
   "metadata": {},
   "outputs": [
    {
     "data": {
      "text/html": [
       "<div>\n",
       "<style scoped>\n",
       "    .dataframe tbody tr th:only-of-type {\n",
       "        vertical-align: middle;\n",
       "    }\n",
       "\n",
       "    .dataframe tbody tr th {\n",
       "        vertical-align: top;\n",
       "    }\n",
       "\n",
       "    .dataframe thead th {\n",
       "        text-align: right;\n",
       "    }\n",
       "</style>\n",
       "<table border=\"1\" class=\"dataframe\">\n",
       "  <thead>\n",
       "    <tr style=\"text-align: right;\">\n",
       "      <th></th>\n",
       "      <th>Title</th>\n",
       "      <th>Score</th>\n",
       "      <th>Date</th>\n",
       "      <th>Review_Content</th>\n",
       "    </tr>\n",
       "  </thead>\n",
       "  <tbody>\n",
       "    <tr>\n",
       "      <th>0</th>\n",
       "      <td>It isn't very bright but it's small and will e...</td>\n",
       "      <td>5.0 out of 5 stars</td>\n",
       "      <td>2018-04-17</td>\n",
       "      <td>It isn't very bright but it's small and will e...</td>\n",
       "    </tr>\n",
       "    <tr>\n",
       "      <th>1</th>\n",
       "      <td>Bright, but eats batteries</td>\n",
       "      <td>5.0 out of 5 stars</td>\n",
       "      <td>2018-04-16</td>\n",
       "      <td>Very bright, I work in a run down steel mill a...</td>\n",
       "    </tr>\n",
       "    <tr>\n",
       "      <th>2</th>\n",
       "      <td>They work pretty good. Didn't blow me away</td>\n",
       "      <td>4.0 out of 5 stars</td>\n",
       "      <td>2018-04-16</td>\n",
       "      <td>They work pretty good. Didn't blow me away, an...</td>\n",
       "    </tr>\n",
       "    <tr>\n",
       "      <th>3</th>\n",
       "      <td>Four Stars</td>\n",
       "      <td>4.0 out of 5 stars</td>\n",
       "      <td>2018-04-16</td>\n",
       "      <td>I will only say for now so far so good, will s...</td>\n",
       "    </tr>\n",
       "    <tr>\n",
       "      <th>4</th>\n",
       "      <td>Five Stars</td>\n",
       "      <td>5.0 out of 5 stars</td>\n",
       "      <td>2018-04-16</td>\n",
       "      <td>Great little flashlight, very bright, will buy...</td>\n",
       "    </tr>\n",
       "  </tbody>\n",
       "</table>\n",
       "</div>"
      ],
      "text/plain": [
       "                                               Title               Score  \\\n",
       "0  It isn't very bright but it's small and will e...  5.0 out of 5 stars   \n",
       "1                         Bright, but eats batteries  5.0 out of 5 stars   \n",
       "2         They work pretty good. Didn't blow me away  4.0 out of 5 stars   \n",
       "3                                         Four Stars  4.0 out of 5 stars   \n",
       "4                                         Five Stars  5.0 out of 5 stars   \n",
       "\n",
       "        Date                                     Review_Content  \n",
       "0 2018-04-17  It isn't very bright but it's small and will e...  \n",
       "1 2018-04-16  Very bright, I work in a run down steel mill a...  \n",
       "2 2018-04-16  They work pretty good. Didn't blow me away, an...  \n",
       "3 2018-04-16  I will only say for now so far so good, will s...  \n",
       "4 2018-04-16  Great little flashlight, very bright, will buy...  "
      ]
     },
     "execution_count": 12,
     "metadata": {},
     "output_type": "execute_result"
    }
   ],
   "source": [
    "## clean the score and date data \n",
    "df_reviews['Date']=pd.to_datetime(df_reviews['Date'])\n",
    "df_reviews[:5]"
   ]
  },
  {
   "cell_type": "code",
   "execution_count": 13,
   "metadata": {},
   "outputs": [
    {
     "data": {
      "text/html": [
       "<div>\n",
       "<style scoped>\n",
       "    .dataframe tbody tr th:only-of-type {\n",
       "        vertical-align: middle;\n",
       "    }\n",
       "\n",
       "    .dataframe tbody tr th {\n",
       "        vertical-align: top;\n",
       "    }\n",
       "\n",
       "    .dataframe thead th {\n",
       "        text-align: right;\n",
       "    }\n",
       "</style>\n",
       "<table border=\"1\" class=\"dataframe\">\n",
       "  <thead>\n",
       "    <tr style=\"text-align: right;\">\n",
       "      <th></th>\n",
       "      <th>Title</th>\n",
       "      <th>Score</th>\n",
       "      <th>Date</th>\n",
       "      <th>Review_Content</th>\n",
       "    </tr>\n",
       "  </thead>\n",
       "  <tbody>\n",
       "    <tr>\n",
       "      <th>0</th>\n",
       "      <td>It isn't very bright but it's small and will e...</td>\n",
       "      <td>5.0</td>\n",
       "      <td>2018-04-17</td>\n",
       "      <td>It isn't very bright but it's small and will e...</td>\n",
       "    </tr>\n",
       "    <tr>\n",
       "      <th>1</th>\n",
       "      <td>Bright, but eats batteries</td>\n",
       "      <td>5.0</td>\n",
       "      <td>2018-04-16</td>\n",
       "      <td>Very bright, I work in a run down steel mill a...</td>\n",
       "    </tr>\n",
       "    <tr>\n",
       "      <th>2</th>\n",
       "      <td>They work pretty good. Didn't blow me away</td>\n",
       "      <td>4.0</td>\n",
       "      <td>2018-04-16</td>\n",
       "      <td>They work pretty good. Didn't blow me away, an...</td>\n",
       "    </tr>\n",
       "    <tr>\n",
       "      <th>3</th>\n",
       "      <td>Four Stars</td>\n",
       "      <td>4.0</td>\n",
       "      <td>2018-04-16</td>\n",
       "      <td>I will only say for now so far so good, will s...</td>\n",
       "    </tr>\n",
       "    <tr>\n",
       "      <th>4</th>\n",
       "      <td>Five Stars</td>\n",
       "      <td>5.0</td>\n",
       "      <td>2018-04-16</td>\n",
       "      <td>Great little flashlight, very bright, will buy...</td>\n",
       "    </tr>\n",
       "  </tbody>\n",
       "</table>\n",
       "</div>"
      ],
      "text/plain": [
       "                                               Title  Score       Date  \\\n",
       "0  It isn't very bright but it's small and will e...    5.0 2018-04-17   \n",
       "1                         Bright, but eats batteries    5.0 2018-04-16   \n",
       "2         They work pretty good. Didn't blow me away    4.0 2018-04-16   \n",
       "3                                         Four Stars    4.0 2018-04-16   \n",
       "4                                         Five Stars    5.0 2018-04-16   \n",
       "\n",
       "                                      Review_Content  \n",
       "0  It isn't very bright but it's small and will e...  \n",
       "1  Very bright, I work in a run down steel mill a...  \n",
       "2  They work pretty good. Didn't blow me away, an...  \n",
       "3  I will only say for now so far so good, will s...  \n",
       "4  Great little flashlight, very bright, will buy...  "
      ]
     },
     "execution_count": 13,
     "metadata": {},
     "output_type": "execute_result"
    }
   ],
   "source": [
    "df_reviews['Score'].replace('5.0 out of 5 stars',5.0,inplace=True)\n",
    "df_reviews['Score'].replace('4.0 out of 5 stars',4.0,inplace=True)\n",
    "df_reviews['Score'].replace('3.0 out of 5 stars',3.0,inplace=True)\n",
    "df_reviews['Score'].replace('2.0 out of 5 stars',2.0,inplace=True)\n",
    "df_reviews['Score'].replace('1.0 out of 5 stars',1.0,inplace=True)\n",
    "df_reviews[:5]"
   ]
  },
  {
   "cell_type": "code",
   "execution_count": 14,
   "metadata": {},
   "outputs": [
    {
     "data": {
      "text/plain": [
       "dtype('int32')"
      ]
     },
     "execution_count": 14,
     "metadata": {},
     "output_type": "execute_result"
    }
   ],
   "source": [
    "df_reviews['Score'] = df_reviews['Score'].astype('int')\n",
    "df_reviews['Score'].dtype"
   ]
  },
  {
   "cell_type": "code",
   "execution_count": 15,
   "metadata": {
    "scrolled": true
   },
   "outputs": [
    {
     "data": {
      "text/plain": [
       "dtype('O')"
      ]
     },
     "execution_count": 15,
     "metadata": {},
     "output_type": "execute_result"
    }
   ],
   "source": [
    "df_reviews['Review_Content'].dtype"
   ]
  },
  {
   "cell_type": "code",
   "execution_count": 16,
   "metadata": {},
   "outputs": [
    {
     "data": {
      "text/plain": [
       "5    549\n",
       "4    118\n",
       "1     81\n",
       "3     53\n",
       "2     52\n",
       "Name: Score, dtype: int64"
      ]
     },
     "execution_count": 16,
     "metadata": {},
     "output_type": "execute_result"
    }
   ],
   "source": [
    "df_reviews['Score'].value_counts()"
   ]
  },
  {
   "cell_type": "code",
   "execution_count": 17,
   "metadata": {},
   "outputs": [
    {
     "data": {
      "text/html": [
       "<div>\n",
       "<style scoped>\n",
       "    .dataframe tbody tr th:only-of-type {\n",
       "        vertical-align: middle;\n",
       "    }\n",
       "\n",
       "    .dataframe tbody tr th {\n",
       "        vertical-align: top;\n",
       "    }\n",
       "\n",
       "    .dataframe thead th {\n",
       "        text-align: right;\n",
       "    }\n",
       "</style>\n",
       "<table border=\"1\" class=\"dataframe\">\n",
       "  <thead>\n",
       "    <tr style=\"text-align: right;\">\n",
       "      <th></th>\n",
       "      <th>Score</th>\n",
       "    </tr>\n",
       "  </thead>\n",
       "  <tbody>\n",
       "    <tr>\n",
       "      <th>count</th>\n",
       "      <td>853.000000</td>\n",
       "    </tr>\n",
       "    <tr>\n",
       "      <th>mean</th>\n",
       "      <td>4.174678</td>\n",
       "    </tr>\n",
       "    <tr>\n",
       "      <th>std</th>\n",
       "      <td>1.332588</td>\n",
       "    </tr>\n",
       "    <tr>\n",
       "      <th>min</th>\n",
       "      <td>1.000000</td>\n",
       "    </tr>\n",
       "    <tr>\n",
       "      <th>25%</th>\n",
       "      <td>4.000000</td>\n",
       "    </tr>\n",
       "    <tr>\n",
       "      <th>50%</th>\n",
       "      <td>5.000000</td>\n",
       "    </tr>\n",
       "    <tr>\n",
       "      <th>75%</th>\n",
       "      <td>5.000000</td>\n",
       "    </tr>\n",
       "    <tr>\n",
       "      <th>max</th>\n",
       "      <td>5.000000</td>\n",
       "    </tr>\n",
       "  </tbody>\n",
       "</table>\n",
       "</div>"
      ],
      "text/plain": [
       "            Score\n",
       "count  853.000000\n",
       "mean     4.174678\n",
       "std      1.332588\n",
       "min      1.000000\n",
       "25%      4.000000\n",
       "50%      5.000000\n",
       "75%      5.000000\n",
       "max      5.000000"
      ]
     },
     "execution_count": 17,
     "metadata": {},
     "output_type": "execute_result"
    }
   ],
   "source": [
    "df_reviews.describe()"
   ]
  },
  {
   "cell_type": "code",
   "execution_count": 18,
   "metadata": {},
   "outputs": [
    {
     "data": {
      "text/html": [
       "<div>\n",
       "<style scoped>\n",
       "    .dataframe tbody tr th:only-of-type {\n",
       "        vertical-align: middle;\n",
       "    }\n",
       "\n",
       "    .dataframe tbody tr th {\n",
       "        vertical-align: top;\n",
       "    }\n",
       "\n",
       "    .dataframe thead th {\n",
       "        text-align: right;\n",
       "    }\n",
       "</style>\n",
       "<table border=\"1\" class=\"dataframe\">\n",
       "  <thead>\n",
       "    <tr style=\"text-align: right;\">\n",
       "      <th></th>\n",
       "      <th>Title</th>\n",
       "      <th>Score</th>\n",
       "      <th>Date</th>\n",
       "      <th>Review_Content</th>\n",
       "      <th>Positivity</th>\n",
       "    </tr>\n",
       "  </thead>\n",
       "  <tbody>\n",
       "    <tr>\n",
       "      <th>0</th>\n",
       "      <td>It isn't very bright but it's small and will e...</td>\n",
       "      <td>5</td>\n",
       "      <td>2018-04-17</td>\n",
       "      <td>It isn't very bright but it's small and will e...</td>\n",
       "      <td>1</td>\n",
       "    </tr>\n",
       "    <tr>\n",
       "      <th>1</th>\n",
       "      <td>Bright, but eats batteries</td>\n",
       "      <td>5</td>\n",
       "      <td>2018-04-16</td>\n",
       "      <td>Very bright, I work in a run down steel mill a...</td>\n",
       "      <td>1</td>\n",
       "    </tr>\n",
       "    <tr>\n",
       "      <th>2</th>\n",
       "      <td>They work pretty good. Didn't blow me away</td>\n",
       "      <td>4</td>\n",
       "      <td>2018-04-16</td>\n",
       "      <td>They work pretty good. Didn't blow me away, an...</td>\n",
       "      <td>1</td>\n",
       "    </tr>\n",
       "    <tr>\n",
       "      <th>3</th>\n",
       "      <td>Four Stars</td>\n",
       "      <td>4</td>\n",
       "      <td>2018-04-16</td>\n",
       "      <td>I will only say for now so far so good, will s...</td>\n",
       "      <td>1</td>\n",
       "    </tr>\n",
       "    <tr>\n",
       "      <th>4</th>\n",
       "      <td>Five Stars</td>\n",
       "      <td>5</td>\n",
       "      <td>2018-04-16</td>\n",
       "      <td>Great little flashlight, very bright, will buy...</td>\n",
       "      <td>1</td>\n",
       "    </tr>\n",
       "  </tbody>\n",
       "</table>\n",
       "</div>"
      ],
      "text/plain": [
       "                                               Title  Score       Date  \\\n",
       "0  It isn't very bright but it's small and will e...      5 2018-04-17   \n",
       "1                         Bright, but eats batteries      5 2018-04-16   \n",
       "2         They work pretty good. Didn't blow me away      4 2018-04-16   \n",
       "3                                         Four Stars      4 2018-04-16   \n",
       "4                                         Five Stars      5 2018-04-16   \n",
       "\n",
       "                                      Review_Content  Positivity  \n",
       "0  It isn't very bright but it's small and will e...           1  \n",
       "1  Very bright, I work in a run down steel mill a...           1  \n",
       "2  They work pretty good. Didn't blow me away, an...           1  \n",
       "3  I will only say for now so far so good, will s...           1  \n",
       "4  Great little flashlight, very bright, will buy...           1  "
      ]
     },
     "execution_count": 18,
     "metadata": {},
     "output_type": "execute_result"
    }
   ],
   "source": [
    "#add a new column called “Positivity”, where score > 3 is encoded as a 1, indicating it was positively rated.\n",
    "#Otherwise, it’ll be encoded as a 0, indicating it was negatively rated.\n",
    "df_reviews_1=df_reviews\n",
    "df_reviews_1.dropna(inplace=True)\n",
    "df_reviews_1[df_reviews_1['Score'] != 3]\n",
    "df_reviews_1['Positivity'] = np.where(df_reviews_1['Score'] > 3, 1, 0)\n",
    "df_reviews_1[:5]"
   ]
  },
  {
   "cell_type": "code",
   "execution_count": 21,
   "metadata": {},
   "outputs": [
    {
     "name": "stdout",
     "output_type": "stream",
     "text": [
      "X_train first entry: \n",
      "\n",
      " It isn't very bright but it's small and will easily fit in a pocket. If you use and loose flash lights a lot these are perfect.\n",
      "\n",
      "\n",
      "X_train shape:  (639,)\n"
     ]
    }
   ],
   "source": [
    "##let’s split our data into random training&test subsets using “Review_content” and “Positivity” columns,\n",
    "#and then print out the first entry and the shape of the training set.\n",
    "from sklearn.model_selection import train_test_split\n",
    "\n",
    "X_train, X_test, y_train, y_test = train_test_split(df_reviews_1['Review_Content'], df_reviews_1['Positivity'], random_state = 0)\n",
    "print('X_train first entry: \\n\\n', X_train[0])\n",
    "print('\\n\\nX_train shape: ', X_train.shape)"
   ]
  },
  {
   "cell_type": "code",
   "execution_count": 22,
   "metadata": {},
   "outputs": [],
   "source": [
    "from sklearn.feature_extraction.text import CountVectorizer\n",
    "vect_X_train = CountVectorizer().fit(X_train)"
   ]
  },
  {
   "cell_type": "code",
   "execution_count": 23,
   "metadata": {},
   "outputs": [
    {
     "data": {
      "text/plain": [
       "['00',\n",
       " 'am',\n",
       " 'behind',\n",
       " 'campsite',\n",
       " 'completely',\n",
       " 'designed',\n",
       " 'enabling',\n",
       " 'flashes',\n",
       " 'half',\n",
       " 'in',\n",
       " 'layed',\n",
       " 'material',\n",
       " 'not',\n",
       " 'patients',\n",
       " 'protect',\n",
       " 'replaced',\n",
       " 'sheered',\n",
       " 'started',\n",
       " 'than',\n",
       " 'types',\n",
       " 'weren']"
      ]
     },
     "execution_count": 23,
     "metadata": {},
     "output_type": "execute_result"
    }
   ],
   "source": [
    "vect_X_train.get_feature_names()[::100]"
   ]
  },
  {
   "cell_type": "code",
   "execution_count": 24,
   "metadata": {},
   "outputs": [
    {
     "data": {
      "text/plain": [
       "2075"
      ]
     },
     "execution_count": 24,
     "metadata": {},
     "output_type": "execute_result"
    }
   ],
   "source": [
    "len(vect_X_train.get_feature_names())"
   ]
  },
  {
   "cell_type": "code",
   "execution_count": 26,
   "metadata": {},
   "outputs": [
    {
     "data": {
      "text/plain": [
       "<639x2075 sparse matrix of type '<class 'numpy.int64'>'\n",
       "\twith 13999 stored elements in Compressed Sparse Row format>"
      ]
     },
     "execution_count": 26,
     "metadata": {},
     "output_type": "execute_result"
    }
   ],
   "source": [
    "X_train_vectorized = vect_X_train.transform(X_train)\n",
    "X_train_vectorized"
   ]
  },
  {
   "cell_type": "code",
   "execution_count": 27,
   "metadata": {},
   "outputs": [
    {
     "data": {
      "text/plain": [
       "array([[0, 0, 0, ..., 0, 0, 0],\n",
       "       [0, 0, 0, ..., 0, 0, 0],\n",
       "       [0, 0, 0, ..., 0, 0, 0],\n",
       "       ...,\n",
       "       [0, 0, 0, ..., 0, 0, 0],\n",
       "       [0, 0, 0, ..., 0, 0, 0],\n",
       "       [0, 0, 0, ..., 0, 0, 0]], dtype=int64)"
      ]
     },
     "execution_count": 27,
     "metadata": {},
     "output_type": "execute_result"
    }
   ],
   "source": [
    "X_train_vectorized.toarray()"
   ]
  },
  {
   "cell_type": "code",
   "execution_count": 29,
   "metadata": {},
   "outputs": [
    {
     "data": {
      "text/plain": [
       "LogisticRegression(C=1.0, class_weight=None, dual=False, fit_intercept=True,\n",
       "          intercept_scaling=1, max_iter=100, multi_class='ovr', n_jobs=1,\n",
       "          penalty='l2', random_state=None, solver='liblinear', tol=0.0001,\n",
       "          verbose=0, warm_start=False)"
      ]
     },
     "execution_count": 29,
     "metadata": {},
     "output_type": "execute_result"
    }
   ],
   "source": [
    "##train the Logistic Regression classifier based on this feature matrix X_ train_ vectorized\n",
    "from sklearn.linear_model import LogisticRegression\n",
    "model_LR = LogisticRegression()\n",
    "model_LR.fit(X_train_vectorized, y_train)"
   ]
  },
  {
   "cell_type": "code",
   "execution_count": 31,
   "metadata": {},
   "outputs": [
    {
     "name": "stdout",
     "output_type": "stream",
     "text": [
      "AUC:  0.7616379310344826\n"
     ]
    }
   ],
   "source": [
    "from sklearn.metrics import roc_auc_score\n",
    "predictions_LR = model_LR.predict(vect_X_train.transform(X_test))\n",
    "print('AUC: ', roc_auc_score(y_test, predictions_LR))"
   ]
  },
  {
   "cell_type": "markdown",
   "metadata": {},
   "source": [
    "#### use the coefficients for each feature (a word) to determine its weight in terms of positivity and negativity."
   ]
  },
  {
   "cell_type": "code",
   "execution_count": 32,
   "metadata": {},
   "outputs": [
    {
     "name": "stdout",
     "output_type": "stream",
     "text": [
      "Smallest Coefs: \n",
      "['not' 'junk' 'after' 'work' 'weak' 'don' 'ok' 'thought' 'day' 'one']\n",
      "\n",
      "Largest Coefs: \n",
      "['great' 'little' 'bright' 'battery' 'awesome' 'excellent' 'bought'\n",
      " 'compact' 'price' 'big']\n",
      "\n"
     ]
    }
   ],
   "source": [
    "feature_names = np.array(vect_X_train.get_feature_names())\n",
    "sorted_coef_index = model_LR.coef_[0].argsort()\n",
    "print('Smallest Coefs: \\n{}\\n'.format(feature_names[sorted_coef_index[:10]]))\n",
    "print('Largest Coefs: \\n{}\\n'.format(feature_names[sorted_coef_index[:-11:-1]]))"
   ]
  },
  {
   "cell_type": "markdown",
   "metadata": {},
   "source": [
    "#### Sorting the ten smallest and ten largest coefficients, we can see the model has predicted words like “not”, “weak” and “ok” to negative reviews, and words like “great”, “bright”, and “excellent” to positive reviews. Thus, we can see that the model needs to improve due to too many non-sense words extracted for positive/negative decision. Therefore, we use Tf-idf term weighting. "
   ]
  },
  {
   "cell_type": "code",
   "execution_count": 40,
   "metadata": {},
   "outputs": [
    {
     "data": {
      "text/plain": [
       "672"
      ]
     },
     "execution_count": 40,
     "metadata": {},
     "output_type": "execute_result"
    }
   ],
   "source": [
    "##Tf–idf term weighting\n",
    "## self-notice! min_df can be toned for train model!!!! ==remove any words from vocabulary that appear in fewer than 3 documents.\n",
    "from sklearn.feature_extraction.text import TfidfVectorizer\n",
    "vect_X_train_tfidf = TfidfVectorizer(min_df = 3).fit(X_train)\n",
    "len(vect_X_train_tfidf.get_feature_names())"
   ]
  },
  {
   "cell_type": "code",
   "execution_count": 41,
   "metadata": {},
   "outputs": [
    {
     "name": "stdout",
     "output_type": "stream",
     "text": [
      "AUC:  0.6413793103448276\n"
     ]
    }
   ],
   "source": [
    "X_train_vectorized = vect_X_train_tfidf.transform(X_train)\n",
    "model_tfidf = LogisticRegression()\n",
    "model_tfidf.fit(X_train_vectorized, y_train)\n",
    "predictions_tfidf = model_tfidf.predict(vect_X_train_tfidf.transform(X_test))\n",
    "print('AUC: ', roc_auc_score(y_test, predictions_tfidf))"
   ]
  },
  {
   "cell_type": "markdown",
   "metadata": {},
   "source": [
    "#### The AUC score reduces in Tf-idf method by 16% with features deceasing from 2075 to 672. It is not good."
   ]
  },
  {
   "cell_type": "code",
   "execution_count": 37,
   "metadata": {},
   "outputs": [
    {
     "data": {
      "text/plain": [
       "269"
      ]
     },
     "execution_count": 37,
     "metadata": {},
     "output_type": "execute_result"
    }
   ],
   "source": [
    "vect_X_train_2 = TfidfVectorizer(min_df = 10).fit(X_train)\n",
    "len(vect_X_train_2.get_feature_names())"
   ]
  },
  {
   "cell_type": "code",
   "execution_count": 42,
   "metadata": {
    "scrolled": true
   },
   "outputs": [
    {
     "name": "stdout",
     "output_type": "stream",
     "text": [
      "Smallest Tfidf: \n",
      "['seemed' 'drawer' 'rockbird' 'kitchen' 'given' 'dimmer' 'wrong' 'pull'\n",
      " 'myself' 'between']\n",
      "\n",
      "Largest Tfidf: \n",
      "['powerful' 'great' 'perfect' 'awesome' 'good' 'like' 'nice' 'weak' 'junk'\n",
      " 'gifts']\n",
      "\n"
     ]
    }
   ],
   "source": [
    "feature_names_tfidf = np.array(vect_X_train_tfidf.get_feature_names())\n",
    "sorted_tfidf_index = X_train_vectorized.max(0).toarray()[0].argsort()\n",
    "print('Smallest Tfidf: \\n{}\\n'.format(feature_names_tfidf[sorted_tfidf_index[:10]]))\n",
    "print('Largest Tfidf: \\n{}\\n'.format(feature_names_tfidf[sorted_tfidf_index[:-11:-1]]))"
   ]
  },
  {
   "cell_type": "markdown",
   "metadata": {},
   "source": [
    "#### test the models by randomly selecting two reviews from data"
   ]
  },
  {
   "cell_type": "code",
   "execution_count": 45,
   "metadata": {},
   "outputs": [
    {
     "name": "stdout",
     "output_type": "stream",
     "text": [
      "[1 1]\n"
     ]
    }
   ],
   "source": [
    "print(model_tfidf.predict(vect_X_train.transform(['The product is not good, I will never buy them again','No problems at all ,strong lil lights'])))"
   ]
  },
  {
   "cell_type": "code",
   "execution_count": null,
   "metadata": {},
   "outputs": [],
   "source": [
    "## Seems that the tfidf model can not correctly classified the first sense into negative group rather than positive group.\n",
    "## To improve the model,we can add n-gram to the model"
   ]
  },
  {
   "cell_type": "code",
   "execution_count": 63,
   "metadata": {},
   "outputs": [
    {
     "data": {
      "text/plain": [
       "1986"
      ]
     },
     "execution_count": 63,
     "metadata": {},
     "output_type": "execute_result"
    }
   ],
   "source": [
    "vect_X_train_ngram = CountVectorizer(min_df = 3, ngram_range = (1,5)).fit(X_train)\n",
    "X_train_vectorized_ngram = vect_X_train_ngram.transform(X_train)\n",
    "len(vect_X_train_ngram.get_feature_names())"
   ]
  },
  {
   "cell_type": "code",
   "execution_count": 86,
   "metadata": {},
   "outputs": [
    {
     "name": "stdout",
     "output_type": "stream",
     "text": [
      "AUC:  0.7645114942528736\n"
     ]
    }
   ],
   "source": [
    "## this model's hyperparameters: min_df and ngram_range, have tested many times and the result of AUC is the highest.\n",
    "## The process of hyperparameters adjusting has been omited. \n",
    "model_ngram = LogisticRegression()\n",
    "model_ngram.fit(X_train_vectorized_ngram, y_train)\n",
    "predictions_ngram = model_ngram.predict(vect_X_train_ngram.transform(X_test))\n",
    "print('AUC: ', roc_auc_score(y_test, predictions_ngram))"
   ]
  },
  {
   "cell_type": "code",
   "execution_count": 104,
   "metadata": {},
   "outputs": [
    {
     "data": {
      "text/plain": [
       "142"
      ]
     },
     "execution_count": 104,
     "metadata": {},
     "output_type": "execute_result"
    }
   ],
   "source": [
    "## adjust the hyperparameters: min_df of tfidf model\n",
    "vect_X_train_2 = TfidfVectorizer(min_df = 20).fit(X_train)\n",
    "len(vect_X_train_2.get_feature_names())"
   ]
  },
  {
   "cell_type": "code",
   "execution_count": 105,
   "metadata": {},
   "outputs": [
    {
     "name": "stdout",
     "output_type": "stream",
     "text": [
      "AUC:  0.7010057471264368\n"
     ]
    }
   ],
   "source": [
    "#### this model's hyperparameters: min_df has tested many times and the result of AUC is the highest.\n",
    "## The process of hyperparameters adjusting has been omited.\n",
    "X_train_vectorized_2 = vect_X_train_2.transform(X_train)\n",
    "model_tfidf_2 = LogisticRegression()\n",
    "model_tfidf_2.fit(X_train_vectorized_2, y_train)\n",
    "predictions_tfidf_2 = model_tfidf_2.predict(vect_X_train_2.transform(X_test))\n",
    "print('AUC: ', roc_auc_score(y_test, predictions_tfidf_2))"
   ]
  },
  {
   "cell_type": "markdown",
   "metadata": {},
   "source": [
    "##### Compare the AUC of different model, we can conclude that based on uncleaned data of review text, ngram model with min_df = 3, ngram_range = (1,5) get the best result： AUC=0.7645"
   ]
  },
  {
   "cell_type": "code",
   "execution_count": null,
   "metadata": {},
   "outputs": [],
   "source": [
    "#It is obvious that the low AUC score gained from three models is largely due to uncleaned text data.\n",
    "## Now we try to clean the data "
   ]
  },
  {
   "cell_type": "code",
   "execution_count": 127,
   "metadata": {},
   "outputs": [
    {
     "data": {
      "text/plain": [
       "array([[0., 0., 0., ..., 0., 0., 0.],\n",
       "       [0., 0., 0., ..., 0., 0., 0.],\n",
       "       [0., 0., 0., ..., 0., 0., 0.],\n",
       "       ...,\n",
       "       [0., 0., 0., ..., 0., 0., 0.],\n",
       "       [0., 0., 0., ..., 0., 0., 0.],\n",
       "       [0., 0., 0., ..., 0., 0., 0.]])"
      ]
     },
     "execution_count": 127,
     "metadata": {},
     "output_type": "execute_result"
    }
   ],
   "source": [
    "tfidf_opimal = TfidfVectorizer(lowercase=True, norm='l2', stop_words='english', use_idf=True)\n",
    "tfidf_opimal.fit_transform(X_train).toarray()"
   ]
  },
  {
   "cell_type": "code",
   "execution_count": 128,
   "metadata": {},
   "outputs": [
    {
     "data": {
      "text/plain": [
       "['00',\n",
       " 'apparently',\n",
       " 'bothered',\n",
       " 'checking',\n",
       " 'crisp',\n",
       " 'dosnt',\n",
       " 'features',\n",
       " 'got',\n",
       " 'imagined',\n",
       " 'led',\n",
       " 'means',\n",
       " 'operate',\n",
       " 'poop',\n",
       " 'ready',\n",
       " 'save',\n",
       " 'sos',\n",
       " 'switch',\n",
       " 'twisted',\n",
       " 'wild']"
      ]
     },
     "execution_count": 128,
     "metadata": {},
     "output_type": "execute_result"
    }
   ],
   "source": [
    "tfidf_opimal.get_feature_names()[::100]"
   ]
  },
  {
   "cell_type": "code",
   "execution_count": 130,
   "metadata": {},
   "outputs": [
    {
     "data": {
      "text/plain": [
       "672"
      ]
     },
     "execution_count": 130,
     "metadata": {},
     "output_type": "execute_result"
    }
   ],
   "source": [
    "vect_X_train_tfidf_optimal =TfidfVectorizer (min_df = 3).fit(X_train)\n",
    "len(vect_X_train_tfidf_optimal.get_feature_names())"
   ]
  },
  {
   "cell_type": "code",
   "execution_count": 132,
   "metadata": {},
   "outputs": [],
   "source": [
    "## this method is useless...."
   ]
  },
  {
   "cell_type": "code",
   "execution_count": null,
   "metadata": {},
   "outputs": [],
   "source": []
  }
 ],
 "metadata": {
  "kernelspec": {
   "display_name": "Python 3",
   "language": "python",
   "name": "python3"
  },
  "language_info": {
   "codemirror_mode": {
    "name": "ipython",
    "version": 3
   },
   "file_extension": ".py",
   "mimetype": "text/x-python",
   "name": "python",
   "nbconvert_exporter": "python",
   "pygments_lexer": "ipython3",
   "version": "3.6.4"
  }
 },
 "nbformat": 4,
 "nbformat_minor": 2
}
